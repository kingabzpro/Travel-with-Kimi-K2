{
 "cells": [
  {
   "cell_type": "code",
   "execution_count": 17,
   "id": "9a27f7b7",
   "metadata": {},
   "outputs": [],
   "source": [
    "import os\n",
    "\n",
    "from firecrawl import FirecrawlApp\n",
    "from groq import Groq\n",
    "\n",
    "# initialize clients\n",
    "groq_client = Groq(api_key=os.environ[\"GROQ_API_KEY\"])\n",
    "firecrawl_client = FirecrawlApp(api_key=os.environ[\"FIRECRAWL_API_KEY\"])\n"
   ]
  },
  {
   "cell_type": "code",
   "execution_count": 2,
   "id": "8260cfe7",
   "metadata": {},
   "outputs": [
    {
     "name": "stdout",
     "output_type": "stream",
     "text": [
      "Firecrawl is best known for its ability to **turn entire websites into clean, LLM-ready markdown or structured data** in a single API call. It’s become popular among developers and AI teams who need to feed web content into large-language-model pipelines, RAG systems, or fine-tuning workflows without having to write custom scrapers or crawl logic.\n"
     ]
    }
   ],
   "source": [
    "chat_completion = groq_client.chat.completions.create(\n",
    "    messages=[\n",
    "        {\n",
    "            \"role\": \"user\",\n",
    "            \"content\": \"What is Firecrawl famous for?\",\n",
    "        }\n",
    "    ],\n",
    "    model=\"moonshotai/kimi-k2-instruct\",\n",
    ")\n",
    "\n",
    "print(chat_completion.choices[0].message.content)"
   ]
  },
  {
   "cell_type": "code",
   "execution_count": 15,
   "id": "ecd27d85",
   "metadata": {},
   "outputs": [
    {
     "name": "stdout",
     "output_type": "stream",
     "text": [
      "Title: American Airlines® - Find New York to Tokyo flights\n",
      "URL: https://www.aa.com/en-us/flights-from-new-york-to-tokyo\n",
      "Description: Find deals on New York to Tokyo flights ... *Fares displayed have been collected within the last 24hrs and may no longer be available at time of booking. Some ...\n",
      "----------------------------------------\n",
      "Title: Flights from New York to Tokyo (JFK - HND) - EVA Air\n",
      "URL: https://flights.evaair.com/en/flights-from-new-york-to-tokyo\n",
      "Description: Find New York to Tokyo Flights with EVA Air from USD 1,288. Round Trip ... Flight Type Round Trip|Economy. Dec 2025. No results available. Check ...\n",
      "----------------------------------------\n",
      "Title: Flights from New York to Tokyo | Singapore Airlines\n",
      "URL: https://www.singaporeair.com/en-us/flights-from-new-york-to-tokyo\n",
      "Description: Discover the best flight rates from New York to Tokyo. Travel in comfort with award-winning inflight services and state-of-the-art amenities.\n",
      "----------------------------------------\n",
      "Title: New York to Tokyo Flights | ANA\n",
      "URL: https://flights.ana.co.jp/en-us/flights-from-new-york-to-tokyo\n",
      "Description: Get a low fare flight from New York to Tokyo with ANA! Enjoy total comfort, world-class meals, and entertainment on your flight with ANA.\n",
      "----------------------------------------\n",
      "Title: Flights New York – Tokyo (NYC-TYO) - Air France\n",
      "URL: https://wwws.airfrance.us/en-us/flights-from-new-york-nyc-to-tokyo\n",
      "Description: Take a look at the next 6 months and find the best price to fly whit Air France from New York (NYC) to Tokyo (TYO) or directly pick your departure date.\n",
      "----------------------------------------\n"
     ]
    }
   ],
   "source": [
    "# perform a basic search\n",
    "search_result = firecrawl_client.search(\n",
    "    \"Find flight from Newyork to tokyo\",\n",
    "    limit=5,\n",
    "    tbs=\"qdr:w\",  # results from the past week\n",
    "    timeout=30000,  # 30 seconds\n",
    ")\n",
    "\n",
    "for item in search_result.data:\n",
    "    print(\"Title:\", item[\"title\"])\n",
    "    print(\"URL:\", item[\"url\"])\n",
    "    print(\"Description:\", item[\"description\"])\n",
    "    print(\"-\" * 40)\n"
   ]
  },
  {
   "cell_type": "code",
   "execution_count": null,
   "id": "74e6f995",
   "metadata": {},
   "outputs": [
    {
     "name": "stdout",
     "output_type": "stream",
     "text": [
      "[Skip to content](https://flights.evaair.com/en/flights-from-new-york-to-tokyo#main)- [Skip to footer](https://flights.evaair.com/en/flights-from-new-york-to-tokyo#footer)\n",
      "\n",
      "# Find New York to Tokyo Flights with EVA Air from USD 1,288\n",
      "\n",
      "Round Trip\n",
      "\n",
      "_expand\\_more_\n",
      "\n",
      "1 Passenger, Economy\n",
      "\n",
      "_expand\\_more_\n",
      "\n",
      "Departure City\n",
      "\n",
      "_close_\n",
      "\n",
      "Destination City\n",
      "\n",
      "_close_\n",
      "\n",
      "Departurefc-booking-departure-date-aria-label07/24/2025\n",
      "\n",
      "_today_\n",
      "\n",
      "Returnfc-booking-return-date-aria-label07/31/2025\n",
      "\n",
      "_today_\n",
      "\n",
      "Search\n",
      "\n",
      "[![](https:// …\n"
     ]
    }
   ],
   "source": [
    "# scrape a page in markdown & html\n",
    "scrape_result = firecrawl_client.scrape_url(\n",
    "    url=\"https://flights.evaair.com/en/flights-from-new-york-to-tokyo\",\n",
    "    formats=[\"markdown\"],\n",
    "    max_age=3600000,\n",
    ")\n",
    "\n",
    "# markdown content:\n",
    "print(scrape_result.markdown[:500], \"…\")"
   ]
  },
  {
   "cell_type": "code",
   "execution_count": null,
   "id": "367d20fc",
   "metadata": {},
   "outputs": [],
   "source": [
    "def search_flights(query: str, limit: int = 5):\n",
    "    results = firecrawl_client.search(\n",
    "        query,\n",
    "        limit=limit,\n",
    "        tbs=\"qdr:w\",  # results from the past week\n",
    "        timeout=30000,\n",
    "    )\n",
    "    jobs = []\n",
    "    for item in results.data:\n",
    "        jobs.append(\n",
    "            {\n",
    "                \"title\": item[\"title\"],\n",
    "                \"url\": item[\"url\"],\n",
    "                \"description\": item[\"description\"],\n",
    "            }\n",
    "        )\n",
    "    return jobs\n",
    "\n",
    "\n",
    "\n",
    "def summarize_flight(description: str) -> str:\n",
    "    messages = [\n",
    "        {\"role\": \"system\", \"content\": \"You are a helpful assistant.\"},\n",
    "        {\n",
    "            \"role\": \"user\",\n",
    "            \"content\": f\"\"\"You are a helpful assistant. Summarize each flight search result into:\n",
    "• Airline  \n",
    "• Route (origin to destination)  \n",
    "• Price (if available)  \n",
    "• Key features or restrictions  \n",
    "• Link to book flight\n",
    "{description}\"\"\",\n",
    "        },\n",
    "    ]\n",
    "\n",
    "    resp = groq_client.chat.completions.create(\n",
    "        model=\"moonshotai/kimi-k2-instruct\",\n",
    "        messages=messages,\n",
    "        max_tokens=512,\n",
    "        temperature=0.7,\n",
    "    )\n",
    "    return resp.choices[0].message.content.strip()"
   ]
  },
  {
   "cell_type": "code",
   "execution_count": 31,
   "id": "51956002",
   "metadata": {},
   "outputs": [],
   "source": [
    "def flight_search(query: str) -> str:\n",
    "    flights = search_flights(query)\n",
    "    summary = summarize_flight(str(flights))\n",
    "    return summary\n"
   ]
  },
  {
   "cell_type": "code",
   "execution_count": 32,
   "id": "f5f6d25c",
   "metadata": {},
   "outputs": [
    {
     "name": "stdout",
     "output_type": "stream",
     "text": [
      "• Airline: American Airlines  \n",
      "  Route: New York (JFK/EWR/LGA) → Tokyo (NRT/HND)  \n",
      "  Price: Not specified in search feed (“…may no longer be available…”)  \n",
      "  Key features/restrictions: 24-hr price volatility warning; fare may change at booking  \n",
      "  Link: https://www.aa.com/en-us/flights-from-new-york-to-tokyo  \n",
      "\n",
      "• Airline: EVA Air  \n",
      "  Route: New York (JFK) → Tokyo Haneda (HND)  \n",
      "  Price: From USD 1,288 round-trip (Economy)  \n",
      "  Key features/restrictions: Lowest price shown for Dec 2025 currently unavailable—check calendar  \n",
      "  Link: https://flights.evaair.com/en/flights-from-new-york-to-tokyo  \n",
      "\n",
      "• Airline: Singapore Airlines  \n",
      "  Route: New York (JFK/EWR) → Tokyo (NRT/HND)  \n",
      "  Price: Not displayed in search snippet  \n",
      "  Key features/restrictions: Award-winning service, modern amenities, wide-body aircraft  \n",
      "  Link: https://www.singaporeair.com/en-us/flights-from-new-york-to-tokyo  \n",
      "\n",
      "• Airline: Air France  \n",
      "  Route: New York (NYC-area airports) → Tokyo (TYO – both NRT/HND)  \n",
      "  Price: “Best price” shown on 6-month calendar (not quoted in snippet)  \n",
      "  Key features/restrictions: Flexible date selector; can mix cabin classes  \n",
      "  Link: https://wwws.airfrance.us/en-us/flights-from-new-york-nyc-to-tokyo  \n",
      "\n",
      "• Airline: ANA (All Nippon Airways)  \n",
      "  Route: New York (JFK/EWR) → Tokyo (NRT/HND)  \n",
      "  Price: Promoted as “low fare” but amount not listed  \n",
      "  Key features/restrictions: Japanese hospitality, complimentary meals & entertainment  \n",
      "  Link: https://flights.ana.co.jp/en-us/flights-from-new-york-to-tokyo\n"
     ]
    }
   ],
   "source": [
    "result = flight_search(\"Find flight from New York to Tokyo\")\n",
    "print(result)\n"
   ]
  },
  {
   "cell_type": "code",
   "execution_count": null,
   "id": "d01c20a9",
   "metadata": {},
   "outputs": [],
   "source": []
  }
 ],
 "metadata": {
  "kernelspec": {
   "display_name": "base",
   "language": "python",
   "name": "python3"
  },
  "language_info": {
   "codemirror_mode": {
    "name": "ipython",
    "version": 3
   },
   "file_extension": ".py",
   "mimetype": "text/x-python",
   "name": "python",
   "nbconvert_exporter": "python",
   "pygments_lexer": "ipython3",
   "version": "3.12.3"
  }
 },
 "nbformat": 4,
 "nbformat_minor": 5
}
